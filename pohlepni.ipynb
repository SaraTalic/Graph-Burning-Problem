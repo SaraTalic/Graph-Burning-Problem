{
 "cells": [
  {
   "cell_type": "code",
   "execution_count": 130,
   "metadata": {},
   "outputs": [],
   "source": [
    "import time"
   ]
  },
  {
   "cell_type": "code",
   "execution_count": 131,
   "metadata": {},
   "outputs": [],
   "source": [
    "def load_graph_from_mtx(filename):\n",
    "    graph = {}\n",
    "    with open(filename, 'r') as file:\n",
    "        for line in file:\n",
    "            \n",
    "            nodes = line.strip().split() \n",
    "            node1, node2 = int(nodes[0]), int(nodes[1])\n",
    "\n",
    "            if node1 not in graph:\n",
    "                graph[node1] = set()\n",
    "            if node2 not in graph:\n",
    "                graph[node2] = set()\n",
    "\n",
    "            # Dodavanje suseda\n",
    "            graph[node1].add(node2)\n",
    "            graph[node2].add(node1)\n",
    "\n",
    "    return graph"
   ]
  },
  {
   "cell_type": "code",
   "execution_count": 132,
   "metadata": {},
   "outputs": [],
   "source": [
    "def greedy_burning(graf):\n",
    "    \n",
    "    S=[] # sekvenca zapaljenih cvoreva\n",
    "    B= set() # skup zapaljenih cvoreva\n",
    "    NB= set(graf.keys()) # skup nezapaljenih cvoreva, inicajlno su to svi cvorevi grafa\n",
    "    \n",
    "    # korak 1: poceti sa cvorom sa najvecim brojem susjeda, dodajemo ga u S i B i brisemo iz NB\n",
    "    trenutni_cvor = max(graf, key=lambda node: len(graf[node]))\n",
    "    S.append(trenutni_cvor)\n",
    "    B.add(trenutni_cvor)\n",
    "    NB.remove(trenutni_cvor)\n",
    "    \n",
    "    while len(B)<len(graf):\n",
    "       \n",
    "        # korak 2: zapaliti sve susjede (koji nisu zapaljeni) od cvorova u skupu zapaljenih, dodajemo ih u B, brisemo iz NB\n",
    "        novozapaljeni = []\n",
    "        for cvor in B:\n",
    "            susjedi = graf[cvor]  # svi susjedi trenutnog zapaljenog cvora\n",
    "            for susjed in susjedi:\n",
    "                if susjed in NB:  # ako susjed nije zapaljen\n",
    "                    novozapaljeni.append(susjed)  # dodajemo ga u zapaljene\n",
    "                    NB.remove(susjed)  \n",
    "        \n",
    "        for nz in novozapaljeni:\n",
    "            B.add(nz) #dodajemo sve susjede u zapaljene\n",
    "       \n",
    "        # korak 3: pronaci iduci cvor koji ce biti direktno zapaljen, dodati ga u S, B i izbrisati iz NB\n",
    "        \n",
    "        max_broj_zapaljenih = -1\n",
    "        najbolji_cvor = None\n",
    "        \n",
    "        for cvor in NB:\n",
    "            nezapaljeni_susjedi = len([n for n in graf[cvor] if n not in B])\n",
    "            if nezapaljeni_susjedi>max_broj_zapaljenih:\n",
    "                max_broj_zapaljenih = nezapaljeni_susjedi\n",
    "                najbolji_cvor = cvor\n",
    "        \n",
    "        S.append(najbolji_cvor)\n",
    "        B.add(najbolji_cvor)\n",
    "        NB.remove(najbolji_cvor)\n",
    "        \n",
    "        \n",
    "        '''\n",
    "        print(\"------\")\n",
    "        print(S)\n",
    "        print(B)\n",
    "        print(NB)\n",
    "        print(len(B))\n",
    "        print(len(NB))'''\n",
    "        \n",
    "        \n",
    "    return S\n",
    "        "
   ]
  },
  {
   "cell_type": "code",
   "execution_count": 134,
   "metadata": {},
   "outputs": [
    {
     "name": "stdout",
     "output_type": "stream",
     "text": [
      "Redoslijed paljenja čvorova: [15, 18, 20, 61]\n",
      "Size 4\n",
      "--- 0.001001119613647461 sekundi ---\n"
     ]
    }
   ],
   "source": [
    "startTime = time.time()\n",
    "#filename = \"graf1.mtx\"  \n",
    "filename = \"grafovi/dolphins.mtx\"\n",
    "\n",
    "graph = load_graph_from_mtx(filename)\n",
    "burn_order = greedy_burning(graph)\n",
    "\n",
    "print(\"Redoslijed paljenja čvorova:\", burn_order)\n",
    "print(\"Size\",len(burn_order))\n",
    "print(\"--- %s sekundi ---\" % (time.time() - startTime))\n"
   ]
  }
 ],
 "metadata": {
  "kernelspec": {
   "display_name": "Python 3",
   "language": "python",
   "name": "python3"
  },
  "language_info": {
   "codemirror_mode": {
    "name": "ipython",
    "version": 3
   },
   "file_extension": ".py",
   "mimetype": "text/x-python",
   "name": "python",
   "nbconvert_exporter": "python",
   "pygments_lexer": "ipython3",
   "version": "3.11.9"
  }
 },
 "nbformat": 4,
 "nbformat_minor": 2
}
